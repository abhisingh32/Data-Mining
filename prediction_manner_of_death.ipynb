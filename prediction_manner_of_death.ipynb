{
 "cells": [
  {
   "cell_type": "code",
   "execution_count": 8,
   "metadata": {
    "colab": {
     "base_uri": "https://localhost:8080/",
     "height": 122
    },
    "colab_type": "code",
    "id": "wn8j308neSjA",
    "outputId": "4aca8c8b-8cfb-4b86-c4fe-ae187fdb4ebe"
   },
   "outputs": [],
   "source": [
    "# from google.colab import drive\n",
    "# drive.mount('/content/gdrive')"
   ]
  },
  {
   "cell_type": "code",
   "execution_count": 9,
   "metadata": {
    "colab": {},
    "colab_type": "code",
    "id": "D_zt6gGLedIf"
   },
   "outputs": [],
   "source": [
    "import numpy as np\n",
    "import pandas as pd\n",
    "import matplotlib.pyplot as plt\n",
    "import seaborn as sns\n",
    "import mpl_toolkits\n",
    "from sklearn.preprocessing import scale\n",
    "from sklearn import datasets, linear_model\n",
    "from sklearn.metrics import accuracy_score\n",
    "from sklearn.preprocessing import LabelEncoder\n",
    "from sklearn.linear_model import LinearRegression\n",
    "from sklearn.linear_model import LogisticRegression\n",
    "from sklearn.cross_validation import train_test_split\n",
    "%matplotlib inline"
   ]
  },
  {
   "cell_type": "code",
   "execution_count": 10,
   "metadata": {
    "colab": {},
    "colab_type": "code",
    "id": "HrrCV96UeXpF"
   },
   "outputs": [],
   "source": [
    "# df = pd.read_csv('/content/gdrive/My Drive/255_Project1/255_Final_Project/preprocessed.csv').drop(['Unnamed: 0'], axis=1)\n"
   ]
  },
  {
   "cell_type": "code",
   "execution_count": 7,
   "metadata": {},
   "outputs": [],
   "source": [
    "df = pd.read_csv('data/preprocessed_100k.csv').drop(['Unnamed: 0'], axis=1)"
   ]
  },
  {
   "cell_type": "code",
   "execution_count": null,
   "metadata": {
    "colab": {
     "base_uri": "https://localhost:8080/",
     "height": 204
    },
    "colab_type": "code",
    "id": "6OOTYMb_ea3V",
    "outputId": "32bf7044-a549-466e-d500-36adba6e5977"
   },
   "outputs": [],
   "source": [
    "df.head()"
   ]
  },
  {
   "cell_type": "code",
   "execution_count": null,
   "metadata": {
    "colab": {},
    "colab_type": "code",
    "id": "vg8kkyd8WBbo"
   },
   "outputs": [],
   "source": [
    "labels = df['Manner_Of_Death']\n",
    "del df['Manner_Of_Death']"
   ]
  },
  {
   "cell_type": "code",
   "execution_count": null,
   "metadata": {
    "colab": {},
    "colab_type": "code",
    "id": "N8iXkYioWT1R"
   },
   "outputs": [],
   "source": [
    "le=LabelEncoder()"
   ]
  },
  {
   "cell_type": "code",
   "execution_count": null,
   "metadata": {
    "colab": {},
    "colab_type": "code",
    "id": "XLCJJJGCVuq5"
   },
   "outputs": [],
   "source": [
    "x_train , x_test , y_train , y_test = train_test_split(df , labels , test_size = 0.10,random_state =2)"
   ]
  },
  {
   "cell_type": "code",
   "execution_count": null,
   "metadata": {
    "colab": {},
    "colab_type": "code",
    "id": "rpFuwvzyYCT9"
   },
   "outputs": [],
   "source": [
    "x_train.is_copy = None\n",
    "x_test.is_copy = None"
   ]
  },
  {
   "cell_type": "code",
   "execution_count": null,
   "metadata": {
    "colab": {},
    "colab_type": "code",
    "id": "mA2LBLlG-YMo"
   },
   "outputs": [],
   "source": [
    "# Iterating over all the common columns in train and test\n",
    "for col in x_test.columns.values:\n",
    "  # Encoding only categorical variables\n",
    "  if x_test[col].dtypes=='object':\n",
    "  # Using whole data to form an exhaustive list of levels\n",
    "    data=x_train[col].append(x_test[col])\n",
    "    le.fit(data.values)\n",
    "    x_train[col]=le.transform(x_train[col])\n",
    "    x_test[col]=le.transform(x_test[col])"
   ]
  },
  {
   "cell_type": "code",
   "execution_count": null,
   "metadata": {
    "colab": {
     "base_uri": "https://localhost:8080/",
     "height": 204
    },
    "colab_type": "code",
    "id": "sZ9IDyfOYiWG",
    "outputId": "55dcaecd-4a84-4ec0-8131-f84b9d4afe8b"
   },
   "outputs": [],
   "source": [
    "x_train.head()"
   ]
  },
  {
   "cell_type": "code",
   "execution_count": null,
   "metadata": {
    "colab": {
     "base_uri": "https://localhost:8080/",
     "height": 119
    },
    "colab_type": "code",
    "id": "DkI6LTWgYkge",
    "outputId": "9e740315-5b5d-4449-c355-d7c9d370a731"
   },
   "outputs": [],
   "source": [
    "y_train.head()"
   ]
  },
  {
   "cell_type": "code",
   "execution_count": null,
   "metadata": {
    "colab": {
     "base_uri": "https://localhost:8080/",
     "height": 51
    },
    "colab_type": "code",
    "id": "ESlkVhUyRGxP",
    "outputId": "52a1cb90-404b-4a5a-fe1f-11ac0c95ebed"
   },
   "outputs": [],
   "source": [
    "print (x_train.shape, y_train.shape)\n",
    "print (x_test.shape, y_test.shape)"
   ]
  },
  {
   "cell_type": "code",
   "execution_count": null,
   "metadata": {
    "colab": {},
    "colab_type": "code",
    "id": "5JKJ0HEBRGlh"
   },
   "outputs": [],
   "source": [
    "# fit a model\n",
    "lm = linear_model.LinearRegression()\n",
    "model = lm.fit(x_train, y_train)\n",
    "predictions = lm.predict(x_test)"
   ]
  },
  {
   "cell_type": "code",
   "execution_count": null,
   "metadata": {
    "colab": {},
    "colab_type": "code",
    "id": "9ByHUIKxRGbi"
   },
   "outputs": [],
   "source": [
    "# Standardizing the features\n",
    "x_train_scale=scale(x_train)\n"
   ]
  },
  {
   "cell_type": "code",
   "execution_count": null,
   "metadata": {
    "colab": {},
    "colab_type": "code",
    "id": "bwNS9ntpisnf"
   },
   "outputs": [],
   "source": [
    "x_test_scale=scale(x_test)\n"
   ]
  },
  {
   "cell_type": "code",
   "execution_count": null,
   "metadata": {
    "colab": {},
    "colab_type": "code",
    "id": "Xn0K00qcawLe"
   },
   "outputs": [],
   "source": [
    "# Fitting the logistic regression model\n",
    "log=LogisticRegression(penalty='l2',C=.01)"
   ]
  },
  {
   "cell_type": "code",
   "execution_count": null,
   "metadata": {
    "colab": {
     "base_uri": "https://localhost:8080/",
     "height": 85
    },
    "colab_type": "code",
    "id": "tRLW6nyOawJW",
    "outputId": "5ed45d46-8a69-4591-c16a-8b175d82b199"
   },
   "outputs": [],
   "source": [
    "log.fit(x_train_scale,y_train)\n"
   ]
  },
  {
   "cell_type": "code",
   "execution_count": null,
   "metadata": {
    "colab": {
     "base_uri": "https://localhost:8080/",
     "height": 34
    },
    "colab_type": "code",
    "id": "fftqgEdIawHR",
    "outputId": "78265bfd-705f-4057-e3de-4fc65fc19dc3"
   },
   "outputs": [],
   "source": [
    "# Checking the models accuracy\n",
    "accuracy_score(y_test,log.predict(x_test_scale))"
   ]
  },
  {
   "cell_type": "code",
   "execution_count": null,
   "metadata": {
    "colab": {},
    "colab_type": "code",
    "id": "fRXOjcSfawAQ"
   },
   "outputs": [],
   "source": [
    "reg = LinearRegression()"
   ]
  },
  {
   "cell_type": "code",
   "execution_count": null,
   "metadata": {
    "colab": {
     "base_uri": "https://localhost:8080/",
     "height": 34
    },
    "colab_type": "code",
    "id": "bgxR6ZGLkJci",
    "outputId": "41d6fd83-940c-4257-c55e-2cff6b8e50f7"
   },
   "outputs": [],
   "source": [
    "reg.fit(x_train,y_train)"
   ]
  },
  {
   "cell_type": "code",
   "execution_count": null,
   "metadata": {
    "colab": {
     "base_uri": "https://localhost:8080/",
     "height": 34
    },
    "colab_type": "code",
    "id": "2dyMaNLxkn-4",
    "outputId": "d68d21bd-40f0-4edc-9847-d4608b56a44b"
   },
   "outputs": [],
   "source": [
    "reg.score(x_test,y_test)"
   ]
  },
  {
   "cell_type": "code",
   "execution_count": null,
   "metadata": {
    "colab": {},
    "colab_type": "code",
    "id": "tNGlbEaZkuny"
   },
   "outputs": [],
   "source": [
    "ynew = log.predict(x_test_scale)"
   ]
  },
  {
   "cell_type": "code",
   "execution_count": null,
   "metadata": {},
   "outputs": [],
   "source": [
    "ynew[2]"
   ]
  },
  {
   "cell_type": "code",
   "execution_count": null,
   "metadata": {},
   "outputs": [],
   "source": [
    "x_train_scale[1]"
   ]
  },
  {
   "cell_type": "code",
   "execution_count": null,
   "metadata": {},
   "outputs": [],
   "source": [
    "# show the inputs and predicted outputs\n",
    "ind=1\n",
    "# for i in range(len(x_test_scale)):\n",
    "print(\"X=%s, Predicted=%s\" % (x_test_scale[ind], ynew[ind]))"
   ]
  },
  {
   "cell_type": "code",
   "execution_count": null,
   "metadata": {},
   "outputs": [],
   "source": [
    "ynew[ind]"
   ]
  },
  {
   "cell_type": "code",
   "execution_count": null,
   "metadata": {},
   "outputs": [],
   "source": [
    "\n",
    "for i in range(len(x_test_scale)):\n",
    "    print(\"X=%s, Predicted=%s\" % (x_test_scale[ind], ynew[ind]))\n",
    "    if ynew[ind]==1:\n",
    "        print(\"X=%s, Predicted=%s\" % (x_test_scale[ind], ynew[ind]), \"index= \"% i )\n",
    "        "
   ]
  },
  {
   "cell_type": "code",
   "execution_count": null,
   "metadata": {},
   "outputs": [],
   "source": [
    "def convertToStringValues(value, column):\n",
    "    resident_dict = {1:'Resident', 2:'Same State Non-Resident', 3:'Differetn State Non-Resident', 4:'Foreign Residents'}\n",
    "    education_dict = {0:'No Formal Education', 1:'1 year of elementary school', 2:'2 years of elementary school', 3:'3 years of elementary school', 4:'4 years of elementary school', 5:'5 years of elementary school', 6:'6 years of elementary school', 7:'7 years of elementary school', 8:'8 years of elementary school', 9:'1 year of high school', 10:'2 years of high school', 11:'3 years of high school', 12:'4 years of high school', 13:'1 year of college', 14:'2 years of college', 15:'3 years of college', 16:'4 years of college', 17:'5 or more years of college', 99:'education not stated'}\n",
    "    month_dict = {1:'Jan', 2:'Feb', 3:'Mar', 4:'Apr', 5:'May', 6:'Jun', 7:'Jul', 8:'Aug', 9:'Sep', 10:'Oct', 11:'Nov', 12:'Dec'}\n",
    "    sex_dict = {'M':'Male', 'F':'Female'}\n",
    "    age_dict = {1:'under 1 year', 2:'1-4 years', 3:'5-14 years', 4:'15-24 years', 5:'25-34 years', 6:'35-44 years', 7:'45-54 years', 8:'55-64 years', 9:'65-74 years', 10:'75-84 years', 11:'85 years and over', 12:'age not stated'}\n",
    "    place_dict = {1:'Hospital-inpatient', 2:'Hospital-outpatient', 3:'Hospital dead on arrival', 4:'home', 5:'hospice facility', 6:'nursing home', 7:'other place', 9:'place unknown'}\n",
    "    marital_dict = {'S':'Single', 'M':'Married', 'W':'Widowed', 'D':'Divorced', 'U':'marital status unknown'}\n",
    "    day_dict = {1:'Sunday', 2:'Monday', 3:'Tuesday', 4:'Wednesday', 5:'Thursday', 6:'Friday', 7:'Saturday', 9:'day unknown'}\n",
    "    injured_dict = {'Y':'Yes', 'N':'No', 'U':'injured unknown'}\n",
    "    manner_dict = {1:'accident', 2:'suicide', 3:'homicide', 4:'pending investigation', 5:'could not determine manner', 6:'self inflicted', 7:'natural', 9:'manner of death unknown'}\n",
    "    race_dict = {1:'white', 2:'black', 3:'american indian', 4:'chinese', 5:'japanese', 6:'hawaiian', 7:'filipino', 18:'asian indian', 28:'korean', 38:'samoan', 48:'vietnamese', 58:'guamanian', 68:'other asian or pacific islander', 78:'combined other asain or pacific islander'}\n",
    "    hisp_orig_dict = {1:'mexican', 2:'puerto rican', 3:'cuban', 4:'central or south american', 5:'other or unknown hispanic', 6:'non-hispanic white', 7:'non-hispanic black', 8:'non-hispanic other races', 9:'hispanic origin unknown'}\n",
    "    \n",
    "    if column == 'Resident_Status':\n",
    "        value = resident_dict[value]\n",
    "    elif column == 'Education':\n",
    "        value = education_dict[value]\n",
    "    elif column == 'Month_Of_Death':\n",
    "        value = month_dict[value]\n",
    "    elif column == 'Sex':\n",
    "        value = sex_dict[value]\n",
    "    elif column == 'Age_Recode_12':\n",
    "        value = age_dict[value]\n",
    "    elif column == 'Place_Of_Death':\n",
    "        value = place_dict[value]\n",
    "    elif column == 'Marital_Status':\n",
    "        value = marital_dict[value]\n",
    "    elif column == 'DOW_of_Death':\n",
    "        value = day_dict[value]\n",
    "    elif column == 'Injured_At_Work':\n",
    "        value = injured_dict[value]\n",
    "    elif column == 'Manner_Of_Death':\n",
    "        value = manner_dict[value]\n",
    "    elif column == 'Race':\n",
    "        value = race_dict[value]\n",
    "    elif column == 'Hispanic_Origin_Recode':\n",
    "        value = hisp_orig_dict[value]\n",
    "    return value"
   ]
  },
  {
   "cell_type": "code",
   "execution_count": null,
   "metadata": {},
   "outputs": [],
   "source": [
    "# convertToStringValues(7,'Manner_Of_Death')\n",
    "convertToStringValues(ynew[ind],'Manner_Of_Death')"
   ]
  },
  {
   "cell_type": "code",
   "execution_count": null,
   "metadata": {},
   "outputs": [],
   "source": [
    "import matplotlib.pyplot as plt\n",
    "\n",
    "y_pos = np.arange(len(names))\n",
    "\n",
    "plt.bar(y_pos, acc_list, align='center', alpha=0.5, color='r')\n",
    "plt.xticks(y_pos, names,rotation=45)\n",
    "plt.ylim(top=1)\n",
    "\n",
    "# plt.ylabel('Accuracy')\n",
    "plt.title('Accuracy')\n",
    " \n",
    "plt.show()"
   ]
  },
  {
   "cell_type": "code",
   "execution_count": null,
   "metadata": {},
   "outputs": [],
   "source": []
  }
 ],
 "metadata": {
  "accelerator": "TPU",
  "colab": {
   "collapsed_sections": [],
   "name": "255_FP_02.ipynb",
   "provenance": [],
   "version": "0.3.2"
  },
  "kernelspec": {
   "display_name": "Python 3",
   "language": "python",
   "name": "python3"
  },
  "language_info": {
   "codemirror_mode": {
    "name": "ipython",
    "version": 3
   },
   "file_extension": ".py",
   "mimetype": "text/x-python",
   "name": "python",
   "nbconvert_exporter": "python",
   "pygments_lexer": "ipython3",
   "version": "3.6.5"
  }
 },
 "nbformat": 4,
 "nbformat_minor": 1
}

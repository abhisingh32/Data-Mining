{
 "cells": [
  {
   "cell_type": "code",
   "execution_count": 1,
   "metadata": {},
   "outputs": [],
   "source": [
    "import pandas as pd\n",
    "df = pd.read_csv('data/preprocessed.csv').drop('Unnamed: 0', axis=1)"
   ]
  },
  {
   "cell_type": "code",
   "execution_count": 2,
   "metadata": {},
   "outputs": [],
   "source": [
    "# convert all columns to categorical type\n",
    "for col in df.columns:\n",
    "    df[col] = df[col].astype('category')"
   ]
  },
  {
   "cell_type": "code",
   "execution_count": 3,
   "metadata": {},
   "outputs": [
    {
     "data": {
      "text/plain": [
       "Resident_Status           category\n",
       "Education                 category\n",
       "Month_Of_Death            category\n",
       "Sex                       category\n",
       "Age_Recode_12             category\n",
       "Place_Of_Death            category\n",
       "Marital_Status            category\n",
       "DOW_of_Death              category\n",
       "Injured_At_Work           category\n",
       "Manner_Of_Death           category\n",
       "Race                      category\n",
       "Hispanic_Origin_Recode    category\n",
       "dtype: object"
      ]
     },
     "execution_count": 3,
     "metadata": {},
     "output_type": "execute_result"
    }
   ],
   "source": [
    "df.dtypes"
   ]
  },
  {
   "cell_type": "code",
   "execution_count": 4,
   "metadata": {},
   "outputs": [],
   "source": [
    "\"\"\"select training set size\n",
    "    uncomment the size to be used\"\"\"\n",
    "\n",
    "train_df = df.sample(100000)\n",
    "# train_df = df"
   ]
  },
  {
   "cell_type": "code",
   "execution_count": 5,
   "metadata": {},
   "outputs": [],
   "source": [
    "# one-hot encode selected columns\n",
    "def one_hot(df, cols):\n",
    "    for each in cols:\n",
    "        dummies = pd.get_dummies(df[each], prefix=each, drop_first=False)\n",
    "        df = pd.concat([df, dummies], axis=1).drop(each, axis=1)\n",
    "    return df"
   ]
  },
  {
   "cell_type": "code",
   "execution_count": 6,
   "metadata": {},
   "outputs": [],
   "source": [
    "# field used as the y-label (prediction)\n",
    "y = 'Education'\n",
    "\n",
    "# fields used as the X (predictors)\n",
    "onehotlist = ['Resident_Status',\n",
    "#               'Education',\n",
    "#               'Month_Of_Death',\n",
    "              'Sex',\n",
    "              'Age_Recode_12',\n",
    "              'Place_Of_Death',\n",
    "              'Marital_Status',\n",
    "#               'DOW_of_Death',\n",
    "              'Injured_At_Work',\n",
    "              'Manner_Of_Death',\n",
    "              'Race',\n",
    "#               'Hispanic_Origin_Recode'\n",
    "             ]\n",
    "\n",
    "onehot_df = one_hot(train_df[onehotlist], [onehotlist])"
   ]
  },
  {
   "cell_type": "code",
   "execution_count": 7,
   "metadata": {},
   "outputs": [
    {
     "data": {
      "text/plain": [
       "Index(['Resident_Status_1', 'Resident_Status_2', 'Resident_Status_3',\n",
       "       'Resident_Status_4', 'Sex_F', 'Sex_M', 'Age_Recode_12_1',\n",
       "       'Age_Recode_12_2', 'Age_Recode_12_3', 'Age_Recode_12_4',\n",
       "       'Age_Recode_12_5', 'Age_Recode_12_6', 'Age_Recode_12_7',\n",
       "       'Age_Recode_12_8', 'Age_Recode_12_9', 'Age_Recode_12_10',\n",
       "       'Age_Recode_12_11', 'Age_Recode_12_12', 'Place_Of_Death_1',\n",
       "       'Place_Of_Death_2', 'Place_Of_Death_3', 'Place_Of_Death_4',\n",
       "       'Place_Of_Death_5', 'Place_Of_Death_6', 'Place_Of_Death_7',\n",
       "       'Place_Of_Death_9', 'Marital_Status_D', 'Marital_Status_M',\n",
       "       'Marital_Status_S', 'Marital_Status_U', 'Marital_Status_W',\n",
       "       'Injured_At_Work_N', 'Injured_At_Work_U', 'Injured_At_Work_Y',\n",
       "       'Manner_Of_Death_1', 'Manner_Of_Death_2', 'Manner_Of_Death_3',\n",
       "       'Manner_Of_Death_4', 'Manner_Of_Death_5', 'Manner_Of_Death_7',\n",
       "       'Manner_Of_Death_9', 'Race_1', 'Race_2', 'Race_3', 'Race_4', 'Race_5',\n",
       "       'Race_6', 'Race_7', 'Race_18', 'Race_28', 'Race_38', 'Race_48',\n",
       "       'Race_58', 'Race_68', 'Race_78'],\n",
       "      dtype='object')"
      ]
     },
     "execution_count": 7,
     "metadata": {},
     "output_type": "execute_result"
    }
   ],
   "source": [
    "onehot_df.columns"
   ]
  },
  {
   "cell_type": "code",
   "execution_count": 8,
   "metadata": {},
   "outputs": [],
   "source": [
    "from sklearn.model_selection import train_test_split\n",
    "\n",
    "# split data into train data and test data (80/20 split)\n",
    "X_train, X_test, y_train, y_test = train_test_split(onehot_df, train_df[y], test_size=0.2)"
   ]
  },
  {
   "cell_type": "code",
   "execution_count": 9,
   "metadata": {},
   "outputs": [],
   "source": [
    "from sklearn.linear_model import Perceptron\n",
    "from sklearn.naive_bayes import BernoulliNB, MultinomialNB, GaussianNB\n",
    "from sklearn.tree import DecisionTreeClassifier\n",
    "from sklearn.svm import SVC, LinearSVC\n",
    "\n",
    "models = [\n",
    "    Perceptron(n_iter=5),\n",
    "    BernoulliNB(alpha=.1),\n",
    "    MultinomialNB(alpha=.01),\n",
    "    GaussianNB(),\n",
    "    DecisionTreeClassifier(),\n",
    "    LinearSVC(),\n",
    "]\n",
    "names = [\n",
    "    'Perceptron',\n",
    "    'BernoulliNB(alpha = .1)',\n",
    "    'MultinomialNB',\n",
    "    'GaussianNB',\n",
    "    'DecisionTree',\n",
    "    'LinearSVC',\n",
    "]"
   ]
  },
  {
   "cell_type": "code",
   "execution_count": 10,
   "metadata": {},
   "outputs": [
    {
     "name": "stdout",
     "output_type": "stream",
     "text": [
      "\n",
      "Perceptron\n"
     ]
    },
    {
     "name": "stderr",
     "output_type": "stream",
     "text": [
      "/Library/Frameworks/Python.framework/Versions/3.6/lib/python3.6/site-packages/sklearn/linear_model/stochastic_gradient.py:117: DeprecationWarning: n_iter parameter is deprecated in 0.19 and will be removed in 0.21. Use max_iter and tol instead.\n",
      "  DeprecationWarning)\n"
     ]
    },
    {
     "name": "stdout",
     "output_type": "stream",
     "text": [
      "accuracy:   0.778\n",
      "recall:   0.778\n",
      "precision:   0.667\n",
      "f1 score, weighted:   0.711\n",
      "\n",
      "BernoulliNB(alpha = .1)\n",
      "accuracy:   0.789\n",
      "recall:   0.789\n",
      "precision:   0.662\n",
      "f1 score, weighted:   0.710\n",
      "\n",
      "MultinomialNB\n",
      "accuracy:   0.796\n",
      "recall:   0.796\n",
      "precision:   0.644\n"
     ]
    },
    {
     "name": "stderr",
     "output_type": "stream",
     "text": [
      "/Library/Frameworks/Python.framework/Versions/3.6/lib/python3.6/site-packages/sklearn/metrics/classification.py:1135: UndefinedMetricWarning: Precision is ill-defined and being set to 0.0 in labels with no predicted samples.\n",
      "  'precision', 'predicted', average, warn_for)\n",
      "/Library/Frameworks/Python.framework/Versions/3.6/lib/python3.6/site-packages/sklearn/metrics/classification.py:1135: UndefinedMetricWarning: F-score is ill-defined and being set to 0.0 in labels with no predicted samples.\n",
      "  'precision', 'predicted', average, warn_for)\n"
     ]
    },
    {
     "name": "stdout",
     "output_type": "stream",
     "text": [
      "f1 score, weighted:   0.712\n",
      "\n",
      "GaussianNB\n",
      "accuracy:   0.061\n",
      "recall:   0.061\n",
      "precision:   0.803\n",
      "f1 score, weighted:   0.110\n",
      "\n",
      "DecisionTree\n",
      "accuracy:   0.784\n",
      "recall:   0.784\n",
      "precision:   0.666\n",
      "f1 score, weighted:   0.714\n",
      "\n",
      "LinearSVC\n",
      "accuracy:   0.802\n",
      "recall:   0.802\n",
      "precision:   0.643\n",
      "f1 score, weighted:   0.714\n"
     ]
    }
   ],
   "source": [
    "from time import time\n",
    "from sklearn import metrics\n",
    "\n",
    "acc_list = []\n",
    "recall_list = []\n",
    "prec_list = []\n",
    "f1_list = []\n",
    "\n",
    "# iterate through models to classify, predict, and calculate metrics\n",
    "for clf, name in zip(models, names):\n",
    "    print('\\n' + name)\n",
    "    clf = clf.fit(X_train, y_train)\n",
    "    pred = clf.predict(X_test)\n",
    "\n",
    "    acc = metrics.accuracy_score(y_test, pred)\n",
    "    acc_list.append(acc)\n",
    "    print(\"accuracy:   %0.3f\" % acc)\n",
    "    \n",
    "    recall = metrics.recall_score(y_true=y_test, y_pred=pred, average='weighted')\n",
    "    recall_list.append(recall)\n",
    "    print(\"recall:   %0.3f\" % recall)\n",
    "    \n",
    "    precision = metrics.precision_score(y_true=y_test, y_pred=pred, average='weighted')\n",
    "    prec_list.append(precision)\n",
    "    print(\"precision:   %0.3f\" % precision)\n",
    "    \n",
    "    f1score = metrics.f1_score(y_true=y_test, y_pred=pred, average='weighted')\n",
    "    f1_list.append(f1score)\n",
    "    print(\"f1 score, weighted:   %0.3f\" % f1score)"
   ]
  },
  {
   "cell_type": "code",
   "execution_count": 12,
   "metadata": {},
   "outputs": [
    {
     "data": {
      "image/png": "[encoded data removed]",
      "text/plain": [
       "<Figure size 432x288 with 1 Axes>"
      ]
     },
     "metadata": {},
     "output_type": "display_data"
    }
   ],
   "source": [
    "import matplotlib.pyplot as plt\n",
    "import numpy as np\n",
    "\n",
    "y_pos = np.arange(len(names))\n",
    "\n",
    "plt.bar(y_pos, acc_list, align='center', alpha=0.5, color='r')\n",
    "plt.xticks(y_pos, names,rotation=45)\n",
    "plt.ylim(top=1)\n",
    "plt.title('Accuracy')\n",
    " \n",
    "plt.show()"
   ]
  },
  {
   "cell_type": "code",
   "execution_count": 13,
   "metadata": {},
   "outputs": [
    {
     "data": {
      "image/png": "[encoded data removed]",
      "text/plain": [
       "<Figure size 432x288 with 1 Axes>"
      ]
     },
     "metadata": {},
     "output_type": "display_data"
    }
   ],
   "source": [
    "y_pos = np.arange(len(names))\n",
    "\n",
    "plt.bar(y_pos, recall_list, align='center', alpha=0.5, color='b')\n",
    "plt.xticks(y_pos, names,rotation=45)\n",
    "plt.ylim(top=1)\n",
    "plt.title('Recall')\n",
    " \n",
    "plt.show()"
   ]
  },
  {
   "cell_type": "code",
   "execution_count": 14,
   "metadata": {},
   "outputs": [
    {
     "data": {
      "image/png": "[encoded data removed]",
      "text/plain": [
       "<Figure size 432x288 with 1 Axes>"
      ]
     },
     "metadata": {},
     "output_type": "display_data"
    }
   ],
   "source": [
    "y_pos = np.arange(len(names))\n",
    "\n",
    "plt.bar(y_pos, prec_list, align='center', alpha=0.5, color='g')\n",
    "plt.xticks(y_pos, names,rotation=45)\n",
    "plt.ylim(top=1)\n",
    "plt.title('Precision')\n",
    " \n",
    "plt.show()"
   ]
  },
  {
   "cell_type": "code",
   "execution_count": 15,
   "metadata": {},
   "outputs": [
    {
     "data": {
      "image/png": "[encoded data removed]",
      "text/plain": [
       "<Figure size 432x288 with 1 Axes>"
      ]
     },
     "metadata": {},
     "output_type": "display_data"
    }
   ],
   "source": [
    "y_pos = np.arange(len(names))\n",
    "\n",
    "plt.bar(y_pos, f1_list, align='center', alpha=0.5, color='grey')\n",
    "plt.xticks(y_pos, names,rotation=45)\n",
    "plt.ylim(top=1)\n",
    "plt.title('F1-Score')\n",
    " \n",
    "plt.show()"
   ]
  },
  {
   "cell_type": "code",
   "execution_count": null,
   "metadata": {},
   "outputs": [],
   "source": []
  }
 ],
 "metadata": {
  "kernelspec": {
   "display_name": "Python 3",
   "language": "python",
   "name": "python3"
  },
  "language_info": {
   "codemirror_mode": {
    "name": "ipython",
    "version": 3
   },
   "file_extension": ".py",
   "mimetype": "text/x-python",
   "name": "python",
   "nbconvert_exporter": "python",
   "pygments_lexer": "ipython3",
   "version": "3.6.4"
  }
 },
 "nbformat": 4,
 "nbformat_minor": 2
}
